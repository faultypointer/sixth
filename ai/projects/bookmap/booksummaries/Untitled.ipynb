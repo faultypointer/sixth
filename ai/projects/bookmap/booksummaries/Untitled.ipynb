{
 "cells": [
  {
   "cell_type": "code",
   "execution_count": 1,
   "id": "9cbda51e-6760-43f3-b949-936c2cb2ba74",
   "metadata": {},
   "outputs": [],
   "source": [
    "import numpy as np\n",
    "import pandas as pd"
   ]
  },
  {
   "cell_type": "code",
   "execution_count": 2,
   "id": "98bbf301-29c5-4fd6-9ae0-b01458b2a8f6",
   "metadata": {},
   "outputs": [],
   "source": [
    "from tqdm import tqdm\n",
    "tqdm.pandas()"
   ]
  },
  {
   "cell_type": "code",
   "execution_count": 12,
   "id": "1245c003-08b8-4ad8-a877-bf19ca21905a",
   "metadata": {},
   "outputs": [],
   "source": [
    "import nltk\n",
    "import re\n",
    "from nltk.corpus import stopwords\n",
    "from nltk.tokenize import word_tokenize\n",
    "from nltk.stem import WordNetLemmatizer\n",
    "from wordcloud import WordCloud\n",
    "from sklearn.feature_extraction.text import TfidfVectorizer\n",
    "from sklearn.metrics.pairwise import cosine_similarity"
   ]
  },
  {
   "cell_type": "code",
   "execution_count": 13,
   "id": "0b8a6b6f-1194-4e51-bf47-c17832a80506",
   "metadata": {},
   "outputs": [],
   "source": [
    "df = pd.read_csv('booksummaries.txt', sep='\\t', header=None)"
   ]
  },
  {
   "cell_type": "code",
   "execution_count": 14,
   "id": "38a22712-35f6-4f64-a013-43f739db9386",
   "metadata": {},
   "outputs": [],
   "source": [
    "# only book title and description\n",
    "df = df[[2, 6]]\n",
    "# rename\n",
    "df = df.rename(columns={2: \"Title\", 6: \"Description\"})"
   ]
  },
  {
   "cell_type": "code",
   "execution_count": 15,
   "id": "fb1a818d-edb7-4703-b013-e21756e64b1e",
   "metadata": {},
   "outputs": [
    {
     "data": {
      "text/plain": [
       "(0, 0)"
      ]
     },
     "execution_count": 15,
     "metadata": {},
     "output_type": "execute_result"
    }
   ],
   "source": [
    "# check if any entry is null\n",
    "\n",
    "df['Title'].isnull().sum(), df['Description'].isnull().sum()"
   ]
  },
  {
   "cell_type": "code",
   "execution_count": 16,
   "id": "56ebea14-eba6-4c55-81f7-133dcd7028c8",
   "metadata": {},
   "outputs": [
    {
     "name": "stdout",
     "output_type": "stream",
     "text": [
      "<class 'pandas.core.frame.DataFrame'>\n",
      "RangeIndex: 16559 entries, 0 to 16558\n",
      "Data columns (total 2 columns):\n",
      " #   Column       Non-Null Count  Dtype \n",
      "---  ------       --------------  ----- \n",
      " 0   Title        16559 non-null  object\n",
      " 1   Description  16559 non-null  object\n",
      "dtypes: object(2)\n",
      "memory usage: 258.9+ KB\n"
     ]
    }
   ],
   "source": [
    "df.info()"
   ]
  },
  {
   "cell_type": "code",
   "execution_count": 17,
   "id": "36e5d78d-20b1-4f4a-ae2d-e0a164f5af3c",
   "metadata": {},
   "outputs": [],
   "source": [
    "lemmatizer = WordNetLemmatizer()\n",
    "stop_words = set(stopwords.words('english'))"
   ]
  },
  {
   "cell_type": "code",
   "execution_count": 9,
   "id": "e73e33bc-8923-4714-aee7-bd7c0321251b",
   "metadata": {},
   "outputs": [],
   "source": [
    "def preprocess_text(text):\n",
    "    text = text.lower()\n",
    "    text = re.sub(r'[^a-zA-z\\s]','',text)\n",
    "    words = word_tokenize(text)\n",
    "    words = [lemmatizer.lemmatize(word) for word in words if word not in stop_words]\n",
    "    return ' '.join(words)"
   ]
  },
  {
   "cell_type": "code",
   "execution_count": 10,
   "id": "32330115-f43a-4cff-884a-b517a47fb213",
   "metadata": {},
   "outputs": [
    {
     "data": {
      "text/plain": [
       "'old major old boar manor farm call animal farm meeting compare human parasite teach animal revolutionary song beast england major dy two young pig snowball napoleon assume command turn dream philosophy animal revolt drive drunken irresponsible mr jones farm renaming animal farm adopt seven commandment animalism important animal equal snowball attempt teach animal reading writing food plentiful farm run smoothly pig elevate position leadership set aside special food item ostensibly personal health napoleon take pup farm dog train privately napoleon snowball struggle leadership snowball announces plan build windmill napoleon dog chase snowball away declares leader napoleon enacts change governance structure farm replacing meeting committee pig run farm using young pig named squealer mouthpiece napoleon claim credit windmill idea animal work harder promise easier life windmill violent storm animal find windmill annihilated napoleon squealer convince animal snowball destroyed although scorn neighbouring farmer suggests wall thin snowball becomes scapegoat napoleon begin purging farm dog killing animal accuses consorting old rival pig abuse power imposing control reserving privilege rewriting history villainising snowball glorifying napoleon squealer justifies every statement napoleon make even pig alteration seven commandment animalism benefit beast england replaced anthem glorifying napoleon appears adopting lifestyle man animal remain convinced better mr jones squealer abuse animal poor memory invents number show improvement mr frederick one neighbouring farmer attack farm using blasting powder blow restored windmill though animal win battle great cost many including boxer workhorse wounded despite injury boxer continues working harder harder collapse working windmill napoleon sends van take boxer veterinary surgeon explaining better care given benjamin cynical donkey could read well pig notice van belongs knacker attempt mount rescue animal attempt futile squealer report van purchased hospital writing previous owner repainted recount tale boxer death hand best medical care year pas pig learn walk upright carry whip wear clothes seven commandment reduced single phrase animal equal animal equal others napoleon hold dinner party pig human area congratulate napoleon hardestworking least fed animal country napoleon announces alliance human labouring class world abolishes practice tradition related revolution change name farm manor farm animal overhearing conversation notice face pig begun changing poker match argument break napoleon mr pilkington animal realise face pig look like face human one tell difference pig snowball napoleon squealer adapt old major idea actual philosophy formally name animalism soon napoleon squealer indulge vice human drinking alcohol sleeping bed trading squealer employed alter seven commandment account humanisation allusion soviet government revising history order exercise control people belief society original commandment whatever go upon two leg enemy whatever go upon four leg wing friend animal shall wear clothes animal shall sleep bed animal shall drink alcohol animal shall kill animal animal equal later napoleon pig secretly revise commandment clear accusation lawbreaking animal shall drink alcohol excess appended animal shall sleep bed sheet added changed commandment follows change bolded animal shall sleep bed sheet animal shall drink alcohol excess animal shall kill animal without cause eventually replaced maxim animal equal animal equal others four leg good two leg better pig become human ironic twist original purpose seven commandment supposed keep order within animal farm uniting animal together human prevent animal following human evil habit revision commandment orwell demonstrates simply political dogma turned malleable propaganda'"
      ]
     },
     "execution_count": 10,
     "metadata": {},
     "output_type": "execute_result"
    }
   ],
   "source": [
    "preprocess_text(df['Description'][0])"
   ]
  },
  {
   "cell_type": "code",
   "execution_count": 11,
   "id": "26136bff-219a-4ef2-b2d5-70d2d6d8fb44",
   "metadata": {},
   "outputs": [
    {
     "name": "stderr",
     "output_type": "stream",
     "text": [
      "100%|███████████████████████████████████████████████████████████████████████████████| 16559/16559 [00:39<00:00, 422.27it/s]\n"
     ]
    }
   ],
   "source": [
    "# preprocess description\n",
    "df['Description'] = df['Description'].progress_apply(preprocess_text)"
   ]
  },
  {
   "cell_type": "code",
   "execution_count": 54,
   "id": "93700836-726e-4527-b4b2-216d24f38a49",
   "metadata": {},
   "outputs": [
    {
     "data": {
      "text/plain": [
       "0        old major old boar manor farm call animal farm...\n",
       "1        alex teenager living nearfuture england lead g...\n",
       "2        text plague divided five part town oran thousa...\n",
       "3        argument enquiry proceeds series incremental s...\n",
       "4        novel posit space around milky way divided con...\n",
       "                               ...                        \n",
       "16554    prue mckeel rescued brother dowager governess ...\n",
       "16555    reader first meet rapp covert operation iran d...\n",
       "16556    book follows rough chronological order switchi...\n",
       "16557    colbert address topic including wall street ca...\n",
       "16558    makar devushkin varvara dobroselova second cou...\n",
       "Name: Description, Length: 16559, dtype: object"
      ]
     },
     "execution_count": 54,
     "metadata": {},
     "output_type": "execute_result"
    }
   ],
   "source": []
  },
  {
   "cell_type": "code",
   "execution_count": 56,
   "id": "fb0fba9d-934c-4555-afaa-05f0cd35432a",
   "metadata": {},
   "outputs": [],
   "source": [
    "tfidf = TfidfVectorizer(stop_words='english')"
   ]
  },
  {
   "cell_type": "code",
   "execution_count": 57,
   "id": "8b4a0c6f-9847-4e37-ac1e-5c53dcdddc3d",
   "metadata": {},
   "outputs": [],
   "source": [
    "tfidf_matrix = tfidf.fit_transform(df['Description'])"
   ]
  },
  {
   "cell_type": "code",
   "execution_count": 58,
   "id": "c9abf980-66d3-47f4-bb2c-95a2b639691d",
   "metadata": {},
   "outputs": [
    {
     "data": {
      "text/plain": [
       "<Compressed Sparse Row sparse matrix of dtype 'float64'\n",
       "\twith 2348080 stored elements and shape (16559, 138566)>"
      ]
     },
     "execution_count": 58,
     "metadata": {},
     "output_type": "execute_result"
    }
   ],
   "source": [
    "tfidf_matrix"
   ]
  },
  {
   "cell_type": "code",
   "execution_count": 59,
   "id": "f8789c80-6066-401f-bbb1-7f561835dcef",
   "metadata": {},
   "outputs": [],
   "source": [
    "cosine_sim = cosine_similarity(tfidf_matrix, tfidf_matrix)"
   ]
  },
  {
   "cell_type": "code",
   "execution_count": 76,
   "id": "ddbd1e88-7f7f-4a34-86fe-8a667bb3ff5a",
   "metadata": {},
   "outputs": [],
   "source": [
    "indices = pd.Series(df.index, index=df['Title']).drop_duplicates()"
   ]
  },
  {
   "cell_type": "code",
   "execution_count": 65,
   "id": "1b98d478-b4ca-49bb-9843-d62b0dbf097f",
   "metadata": {},
   "outputs": [
    {
     "data": {
      "text/plain": [
       "array([1.        , 0.01350778, 0.01261944, ..., 0.00900731, 0.00431475,\n",
       "       0.01189427])"
      ]
     },
     "execution_count": 65,
     "metadata": {},
     "output_type": "execute_result"
    }
   ],
   "source": [
    "cosine_sim[0]"
   ]
  },
  {
   "cell_type": "code",
   "execution_count": 69,
   "id": "e710cf20-7e70-4e69-b37c-ece040583ca1",
   "metadata": {},
   "outputs": [],
   "source": [
    "sim_score = list(enumerate(cosine_sim[0]))"
   ]
  },
  {
   "cell_type": "code",
   "execution_count": 71,
   "id": "8c954d77-60b7-438f-b80c-114938a56653",
   "metadata": {},
   "outputs": [],
   "source": [
    "sim_score = sorted(sim_score, key=lambda x: x[1], reverse=True)"
   ]
  },
  {
   "cell_type": "code",
   "execution_count": 91,
   "id": "7edb4bbe-4960-4fdf-8c92-1997a00bb157",
   "metadata": {},
   "outputs": [
    {
     "data": {
      "text/plain": [
       "'Animal Farm'"
      ]
     },
     "execution_count": 91,
     "metadata": {},
     "output_type": "execute_result"
    }
   ],
   "source": [
    "indices.keys()[0]"
   ]
  },
  {
   "cell_type": "code",
   "execution_count": 81,
   "id": "7cfc2d5e-7d0a-463c-8236-da1a9b6ede16",
   "metadata": {},
   "outputs": [
    {
     "data": {
      "text/plain": [
       "9989"
      ]
     },
     "execution_count": 81,
     "metadata": {},
     "output_type": "execute_result"
    }
   ],
   "source": [
    "indices[\"Snowball's Chance\"]"
   ]
  },
  {
   "cell_type": "code",
   "execution_count": 19,
   "id": "741c1087-16fc-456a-a3c1-1dc67b412076",
   "metadata": {},
   "outputs": [],
   "source": [
    "from atlas import Atlas"
   ]
  },
  {
   "cell_type": "code",
   "execution_count": 20,
   "id": "6336526d-260a-419d-9dcf-3d668f9a636d",
   "metadata": {},
   "outputs": [],
   "source": [
    "atlas = Atlas().train(df)"
   ]
  },
  {
   "cell_type": "code",
   "execution_count": 21,
   "id": "c6411d1e-6f9e-4c0c-a929-1e8196d45c4a",
   "metadata": {},
   "outputs": [
    {
     "name": "stdout",
     "output_type": "stream",
     "text": [
      "Model saved to book_similarity_model\n"
     ]
    }
   ],
   "source": [
    "atlas.save()"
   ]
  },
  {
   "cell_type": "code",
   "execution_count": null,
   "id": "07f2b587-7f7b-401a-9334-88f94217c1cb",
   "metadata": {},
   "outputs": [],
   "source": []
  }
 ],
 "metadata": {
  "kernelspec": {
   "display_name": "Python 3 (ipykernel)",
   "language": "python",
   "name": "python3"
  },
  "language_info": {
   "codemirror_mode": {
    "name": "ipython",
    "version": 3
   },
   "file_extension": ".py",
   "mimetype": "text/x-python",
   "name": "python",
   "nbconvert_exporter": "python",
   "pygments_lexer": "ipython3",
   "version": "3.12.7"
  }
 },
 "nbformat": 4,
 "nbformat_minor": 5
}
