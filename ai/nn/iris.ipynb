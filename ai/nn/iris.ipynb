{
 "cells": [
  {
   "cell_type": "code",
   "execution_count": 1,
   "metadata": {},
   "outputs": [],
   "source": [
    "import numpy as np\n",
    "import matplotlib.pyplot as plt\n",
    "import torch\n",
    "from torch import nn"
   ]
  },
  {
   "cell_type": "code",
   "execution_count": 2,
   "metadata": {},
   "outputs": [],
   "source": [
    "class IrisModel(nn.Module):\n",
    "    def __init__(self, hidden_layer_neurons=8):\n",
    "        super().__init__() \n",
    "        self.layers = nn.Sequential(\n",
    "            nn.Linear(in_features=4, out_features=hidden_layer_neurons),\n",
    "            nn.ReLU(),\n",
    "            nn.Linear(in_features=hidden_layer_neurons, out_features=hidden_layer_neurons),\n",
    "            nn.ReLU(),\n",
    "            nn.Linear(in_features=hidden_layer_neurons, out_features=3)\n",
    "        )\n",
    "\n",
    "    def forward(self, x):\n",
    "        return self.layers(x)"
   ]
  },
  {
   "cell_type": "code",
   "execution_count": 3,
   "metadata": {},
   "outputs": [],
   "source": [
    "model = IrisModel()"
   ]
  },
  {
   "cell_type": "code",
   "execution_count": 6,
   "metadata": {},
   "outputs": [
    {
     "data": {
      "text/plain": [
       "<All keys matched successfully>"
      ]
     },
     "execution_count": 6,
     "metadata": {},
     "output_type": "execute_result"
    }
   ],
   "source": [
    "model.load_state_dict(torch.load(\"iris_model\", weights_only=True))"
   ]
  },
  {
   "cell_type": "code",
   "execution_count": 8,
   "metadata": {},
   "outputs": [
    {
     "data": {
      "text/plain": [
       "OrderedDict([('layers.0.weight',\n",
       "              tensor([[-0.2028,  0.0541, -0.1766, -0.0785],\n",
       "                      [ 0.2142,  0.2671,  0.5432, -0.1856],\n",
       "                      [ 0.5726,  0.5681, -0.6973, -0.8732],\n",
       "                      [-0.1169, -0.3214, -0.0804, -0.0961],\n",
       "                      [ 0.0600,  0.6509, -0.4523, -0.3739],\n",
       "                      [ 0.6427,  0.0119,  0.6174, -0.2037],\n",
       "                      [ 0.4851,  0.8428, -0.7317, -0.9508],\n",
       "                      [ 0.0259, -0.4893,  0.0479,  0.3432]])),\n",
       "             ('layers.0.bias',\n",
       "              tensor([-0.3900, -0.4904,  0.4608, -0.4559,  0.1541, -0.5011,  0.5760, -0.1523])),\n",
       "             ('layers.2.weight',\n",
       "              tensor([[ 0.0664,  0.0433, -0.7888,  0.1179, -0.0599,  0.3824, -0.1776,  0.2618],\n",
       "                      [ 0.1031,  0.1844, -0.1893, -0.3047,  0.1123,  0.5244,  0.1828,  0.1736],\n",
       "                      [ 0.0522,  0.3353, -0.1464,  0.1759, -0.1838,  0.2561,  0.2432,  0.2326],\n",
       "                      [-0.2853,  0.4579, -0.9868,  0.1074,  0.3046,  0.3066, -1.1928, -0.2728],\n",
       "                      [-0.3159,  0.0771,  0.2143, -0.3500, -0.0306, -0.3037,  0.0324, -0.2528],\n",
       "                      [ 0.1751,  0.0636,  0.2340,  0.2660, -0.0286,  0.4774,  0.2838,  0.0584],\n",
       "                      [ 0.1065, -0.1574,  0.6478, -0.1474,  0.6987, -0.2339,  0.9087, -0.1828],\n",
       "                      [-0.0941, -0.0519,  0.3325, -0.2522,  0.5163, -0.1852,  0.4310,  0.1779]])),\n",
       "             ('layers.2.bias',\n",
       "              tensor([-0.1274,  0.3208,  0.0756, -0.1579, -0.0200,  0.1119, -0.2289,  0.0050])),\n",
       "             ('layers.4.weight',\n",
       "              tensor([[-0.1845, -0.4850,  0.0749,  0.2230, -0.1880, -0.1513,  1.0652,  0.5692],\n",
       "                      [-0.2038,  0.3275,  0.5356, -0.9860, -0.0849,  0.4541, -0.5686, -0.1832],\n",
       "                      [ 0.6685, -0.0437,  0.2785,  1.2651,  0.3129, -0.2191, -0.4588, -0.0499]])),\n",
       "             ('layers.4.bias', tensor([-0.4874,  0.4946, -0.1323]))])"
      ]
     },
     "execution_count": 8,
     "metadata": {},
     "output_type": "execute_result"
    }
   ],
   "source": [
    "model.state_dict()"
   ]
  },
  {
   "cell_type": "code",
   "execution_count": null,
   "metadata": {},
   "outputs": [],
   "source": []
  }
 ],
 "metadata": {
  "kernelspec": {
   "display_name": "Python 3 (ipykernel)",
   "language": "python",
   "name": "python3"
  },
  "language_info": {
   "codemirror_mode": {
    "name": "ipython",
    "version": 3
   },
   "file_extension": ".py",
   "mimetype": "text/x-python",
   "name": "python",
   "nbconvert_exporter": "python",
   "pygments_lexer": "ipython3",
   "version": "3.12.7"
  }
 },
 "nbformat": 4,
 "nbformat_minor": 4
}
