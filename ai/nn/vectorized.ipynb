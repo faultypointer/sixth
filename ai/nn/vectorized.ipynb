{
 "cells": [
  {
   "cell_type": "code",
   "execution_count": 1,
   "id": "858f7c65-ac3b-4ec1-a41e-c3bf9109370c",
   "metadata": {},
   "outputs": [],
   "source": [
    "import numpy as np\n",
    "import matplotlib.pyplot as plt"
   ]
  },
  {
   "cell_type": "code",
   "execution_count": 6,
   "id": "a2b47b03-7d8e-4843-9c64-446915f609f6",
   "metadata": {},
   "outputs": [],
   "source": [
    "X = np.array([[-0.5, 0.5]])\n",
    "y = np.array([[-0.4]])"
   ]
  },
  {
   "cell_type": "code",
   "execution_count": 7,
   "id": "63ac6054-2a22-4ca7-82ac-c4bcbb0554b8",
   "metadata": {},
   "outputs": [],
   "source": [
    "W1 = np.random.random_sample((5, 2)) * 0.01\n",
    "W2 = np.random.random_sample((1, 5)) * 0.01"
   ]
  },
  {
   "cell_type": "code",
   "execution_count": 8,
   "id": "a8a4ba3b-47f8-44d1-abe4-6696ba5d3288",
   "metadata": {},
   "outputs": [],
   "source": [
    "epochs = 20\n",
    "alpha = 0.1\n",
    "for i in range(epochs):\n",
    "    h = X @ W1.T\n",
    "    y_out = h @ W2.T\n",
    "    error = np.square(y - y_out)\n",
    "    G2 = - 2 * (y - y_out) * h\n",
    "    G1 = -2 * (y - y_out) * W2.T @ X\n",
    "    W1 -= G1\n",
    "    W2 -= G2"
   ]
  },
  {
   "cell_type": "code",
   "execution_count": 9,
   "id": "09c7b3b7-608a-47d9-8eb0-b8b86cf6cab1",
   "metadata": {},
   "outputs": [
    {
     "data": {
      "text/plain": [
       "array([[-0.4]])"
      ]
     },
     "execution_count": 9,
     "metadata": {},
     "output_type": "execute_result"
    }
   ],
   "source": [
    "final_h = X @ W1.T\n",
    "final_y_out = h @ W2.T\n",
    "final_y_out"
   ]
  },
  {
   "cell_type": "code",
   "execution_count": null,
   "id": "0aa7ffeb-5fd7-4984-b007-00418a68663a",
   "metadata": {},
   "outputs": [],
   "source": []
  },
  {
   "cell_type": "code",
   "execution_count": null,
   "id": "584b2924-ebc7-49c6-a9a4-203bacdd2941",
   "metadata": {},
   "outputs": [],
   "source": []
  }
 ],
 "metadata": {
  "kernelspec": {
   "display_name": "Python 3 (ipykernel)",
   "language": "python",
   "name": "python3"
  },
  "language_info": {
   "codemirror_mode": {
    "name": "ipython",
    "version": 3
   },
   "file_extension": ".py",
   "mimetype": "text/x-python",
   "name": "python",
   "nbconvert_exporter": "python",
   "pygments_lexer": "ipython3",
   "version": "3.12.7"
  }
 },
 "nbformat": 4,
 "nbformat_minor": 5
}
