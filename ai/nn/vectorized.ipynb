{
 "cells": [
  {
   "cell_type": "code",
   "execution_count": 2,
   "id": "858f7c65-ac3b-4ec1-a41e-c3bf9109370c",
   "metadata": {},
   "outputs": [],
   "source": [
    "import numpy as np\n",
    "import matplotlib.pyplot as plt"
   ]
  },
  {
   "cell_type": "code",
   "execution_count": 36,
   "id": "a2b47b03-7d8e-4843-9c64-446915f609f6",
   "metadata": {},
   "outputs": [],
   "source": [
    "X = np.array([[-0.5, 0.5]])\n",
    "y = np.array([[0.4]])"
   ]
  },
  {
   "cell_type": "code",
   "execution_count": 37,
   "id": "63ac6054-2a22-4ca7-82ac-c4bcbb0554b8",
   "metadata": {},
   "outputs": [],
   "source": [
    "W1 = np.random.random_sample((5, 2)) * 0.01\n",
    "W2 = np.random.random_sample((1, 5)) * 0.01"
   ]
  },
  {
   "cell_type": "code",
   "execution_count": 38,
   "id": "a8a4ba3b-47f8-44d1-abe4-6696ba5d3288",
   "metadata": {},
   "outputs": [],
   "source": [
    "epochs = 20\n",
    "alpha = 0.1\n",
    "for i in range(epochs):\n",
    "    h = X @ W1.T\n",
    "    y_out = h @ W2.T\n",
    "    error = np.square(y - y_out)\n",
    "    G2 = - 2 * (y - y_out) * h\n",
    "    G1 = -2 * (y - y_out) * W2.T @ X\n",
    "    W1 -= G1\n",
    "    W2 -= G2"
   ]
  },
  {
   "cell_type": "code",
   "execution_count": 39,
   "id": "09c7b3b7-608a-47d9-8eb0-b8b86cf6cab1",
   "metadata": {},
   "outputs": [
    {
     "data": {
      "text/plain": [
       "array([[0.40000004]])"
      ]
     },
     "execution_count": 39,
     "metadata": {},
     "output_type": "execute_result"
    }
   ],
   "source": [
    "final_h = X @ W1.T\n",
    "final_y_out = h @ W2.T\n",
    "final_y_out"
   ]
  },
  {
   "cell_type": "code",
   "execution_count": 34,
   "id": "4236b7e8-fb59-441d-b755-36e75971d7aa",
   "metadata": {},
   "outputs": [],
   "source": [
    "A = np.array([[1, 2], [3, 4]])\n",
    "B = np.array([1, 0])"
   ]
  },
  {
   "cell_type": "code",
   "execution_count": 40,
   "id": "2881abc1-96c4-4ae8-9edf-dc35b4e3ef47",
   "metadata": {},
   "outputs": [],
   "source": [
    "C = B @ A.T"
   ]
  },
  {
   "cell_type": "code",
   "execution_count": 54,
   "id": "ffda1f4d-5a82-4f24-8a74-e2fbfd345ea4",
   "metadata": {},
   "outputs": [
    {
     "data": {
      "text/plain": [
       "array([[-1.24332145,  3.65231436]])"
      ]
     },
     "execution_count": 54,
     "metadata": {},
     "output_type": "execute_result"
    }
   ],
   "source": [
    "y_out * h"
   ]
  },
  {
   "cell_type": "code",
   "execution_count": 57,
   "id": "c7ecff29-c212-446c-8a83-77c37f0152b9",
   "metadata": {},
   "outputs": [
    {
     "data": {
      "text/plain": [
       "array([[-1.47714111,  4.33917045]])"
      ]
     },
     "execution_count": 57,
     "metadata": {},
     "output_type": "execute_result"
    }
   ],
   "source": [
    "h"
   ]
  },
  {
   "cell_type": "code",
   "execution_count": null,
   "id": "5a084898-1244-4d91-a3ba-c962f6ac897a",
   "metadata": {},
   "outputs": [],
   "source": []
  }
 ],
 "metadata": {
  "kernelspec": {
   "display_name": "Python 3 (ipykernel)",
   "language": "python",
   "name": "python3"
  },
  "language_info": {
   "codemirror_mode": {
    "name": "ipython",
    "version": 3
   },
   "file_extension": ".py",
   "mimetype": "text/x-python",
   "name": "python",
   "nbconvert_exporter": "python",
   "pygments_lexer": "ipython3",
   "version": "3.12.7"
  }
 },
 "nbformat": 4,
 "nbformat_minor": 5
}
