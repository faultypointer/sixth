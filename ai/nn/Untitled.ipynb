{
 "cells": [
  {
   "cell_type": "code",
   "execution_count": 1,
   "id": "442e3b54-c3aa-4f91-b19a-25b5a106c972",
   "metadata": {},
   "outputs": [],
   "source": [
    "import numpy as np\n",
    "import matplotlib.pyplot as plt"
   ]
  },
  {
   "cell_type": "code",
   "execution_count": 2,
   "id": "7834d87f-f1b7-4d27-8b65-d623cd633eac",
   "metadata": {},
   "outputs": [],
   "source": [
    "X=1.5\n",
    "y=0.5"
   ]
  },
  {
   "cell_type": "code",
   "execution_count": 3,
   "id": "f6b3178d-141b-4c24-8e10-4377a9b82ee0",
   "metadata": {},
   "outputs": [
    {
     "name": "stdout",
     "output_type": "stream",
     "text": [
      "[0.52109619]\n"
     ]
    }
   ],
   "source": [
    "W=np.random.randn(1)\n",
    "print(W)\n"
   ]
  },
  {
   "cell_type": "code",
   "execution_count": 12,
   "id": "860bc383-a790-43a3-bbf5-363e6258bb68",
   "metadata": {},
   "outputs": [
    {
     "name": "stdout",
     "output_type": "stream",
     "text": [
      "[0.33333333]\n"
     ]
    }
   ],
   "source": [
    "epochs = 20\n",
    "alpha = 0.1\n",
    "errorList = []\n",
    "wlist = []\n",
    "for epochs in range (epochs) :\n",
    "    #Forward Pass\n",
    "    y_out = X*W\n",
    "    \n",
    "    # compute error\n",
    "    error = np.square((y-y_out))\n",
    "    errorList.append(error[0])\n",
    "   \n",
    "    \n",
    "    #compute the gradient of erroe wrt w\n",
    "    gradient = -2*(y-y_out)*X\n",
    "\n",
    "    #Bsckpropragate the error \n",
    "    W = W - gradient*alpha\n",
    "    wlist.append(W)\n",
    "\n",
    "print(W)\n",
    "    "
   ]
  },
  {
   "cell_type": "code",
   "execution_count": 13,
   "id": "84f077f1-f7fa-4471-a50b-d7deb94d1afe",
   "metadata": {},
   "outputs": [
    {
     "data": {
      "text/plain": [
       "array([1.23259516e-32])"
      ]
     },
     "execution_count": 13,
     "metadata": {},
     "output_type": "execute_result"
    }
   ],
   "source": [
    "error"
   ]
  },
  {
   "cell_type": "code",
   "execution_count": 19,
   "id": "c433e00a-36e1-4ccd-b8b3-606ef62a0e51",
   "metadata": {},
   "outputs": [
    {
     "data": {
      "image/png": "[encoded data removed]",
      "text/plain": [
       "<Figure size 640x480 with 1 Axes>"
      ]
     },
     "metadata": {},
     "output_type": "display_data"
    }
   ],
   "source": [
    "plt.plot(list(range(epochs+1)), errorList)\n",
    "plt.xlabel(\"Epochs\")\n",
    "plt.ylabel(\"Error\")\n",
    "plt.title(\"Epochs vs Error\")\n",
    "plt.show()"
   ]
  },
  {
   "cell_type": "code",
   "execution_count": 15,
   "id": "3dacaa11-2e5e-402d-bae0-f0706d115197",
   "metadata": {},
   "outputs": [
    {
     "data": {
      "text/plain": [
       "range(0, 20)"
      ]
     },
     "execution_count": 15,
     "metadata": {},
     "output_type": "execute_result"
    }
   ],
   "source": [
    "range(20)"
   ]
  },
  {
   "cell_type": "code",
   "execution_count": 17,
   "id": "c5742dde-5df3-4899-9afb-206b6e4b156e",
   "metadata": {},
   "outputs": [
    {
     "data": {
      "text/plain": [
       "20"
      ]
     },
     "execution_count": 17,
     "metadata": {},
     "output_type": "execute_result"
    }
   ],
   "source": [
    "len(list(range(20)))"
   ]
  },
  {
   "cell_type": "code",
   "execution_count": 18,
   "id": "70e0ca3f-1dd4-4af2-b00a-f5b9250ef10f",
   "metadata": {},
   "outputs": [
    {
     "data": {
      "text/plain": [
       "20"
      ]
     },
     "execution_count": 18,
     "metadata": {},
     "output_type": "execute_result"
    }
   ],
   "source": [
    "len(errorList)"
   ]
  },
  {
   "cell_type": "code",
   "execution_count": null,
   "id": "73b67bd3-fcbd-4082-b652-788e715d5a65",
   "metadata": {},
   "outputs": [],
   "source": []
  }
 ],
 "metadata": {
  "kernelspec": {
   "display_name": "Python 3 (ipykernel)",
   "language": "python",
   "name": "python3"
  },
  "language_info": {
   "codemirror_mode": {
    "name": "ipython",
    "version": 3
   },
   "file_extension": ".py",
   "mimetype": "text/x-python",
   "name": "python",
   "nbconvert_exporter": "python",
   "pygments_lexer": "ipython3",
   "version": "3.12.7"
  }
 },
 "nbformat": 4,
 "nbformat_minor": 5
}
